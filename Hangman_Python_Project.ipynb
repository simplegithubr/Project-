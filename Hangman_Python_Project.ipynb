{
  "nbformat": 4,
  "nbformat_minor": 0,
  "metadata": {
    "colab": {
      "provenance": [],
      "authorship_tag": "ABX9TyN+5GvfjLi2FwucqN9VfGRr",
      "include_colab_link": true
    },
    "kernelspec": {
      "name": "python3",
      "display_name": "Python 3"
    },
    "language_info": {
      "name": "python"
    }
  },
  "cells": [
    {
      "cell_type": "markdown",
      "metadata": {
        "id": "view-in-github",
        "colab_type": "text"
      },
      "source": [
        "<a href=\"https://colab.research.google.com/github/simplegithubr/Project-/blob/main/Hangman_Python_Project.ipynb\" target=\"_parent\"><img src=\"https://colab.research.google.com/assets/colab-badge.svg\" alt=\"Open In Colab\"/></a>"
      ]
    },
    {
      "cell_type": "markdown",
      "source": [
        "Hangman Python Project"
      ],
      "metadata": {
        "id": "RCoqVOPCI_hP"
      }
    },
    {
      "cell_type": "code",
      "source": [
        "import random\n",
        "def hangman ():\n",
        "    words= [\"python\", \"streamlit\", \"developer\", \"art\"]\n",
        "    word = random.choice(words)\n",
        "    guessed_letters  = []\n",
        "    tries = 6\n",
        "    display = [\"_\"] * len(word)\n",
        "    print(\"Welcome to Hangman! 🎨\")\n",
        "    print(\" \".join(display))\n",
        "\n",
        "    while tries > 0 and \"_\" in display:\n",
        "        guess = input(\"\\nGuess a Letter: \").lower().strip()\n",
        "\n",
        "        if len(guess) != 1 or not guess.isalpha():\n",
        "           print(\"❌ Please enter only one letter!\")\n",
        "           continue\n",
        "        if guess in guessed_letters:\n",
        "           print(\"⚠️ You already guessed that letter!\")\n",
        "           continue\n",
        "        guessed_letters.append(guess)\n",
        "\n",
        "        if guess in word:\n",
        "\n",
        "\n",
        "           for index, letter in enumerate(word):\n",
        "                 if letter == guess:\n",
        "                    display[index] = guess\n",
        "           print(\"✅ Correct!\")\n",
        "        else:\n",
        "           tries -= 1\n",
        "           print(f\"❌ Wrong guess! {tries} tries left.\")\n",
        "\n",
        "        print(\" \".join(display))\n",
        "\n",
        "    if \"_\" not in display:\n",
        "       print(\"\\n🎉 You won! The word was:\", word)\n",
        "    else :\n",
        "       print(\"\\n❌ You lost! The word was:\", word)\n",
        "hangman()\n",
        "\n",
        "\n",
        "\n",
        "\n"
      ],
      "metadata": {
        "colab": {
          "base_uri": "https://localhost:8080/"
        },
        "id": "5tDECBTOJDWG",
        "outputId": "07828647-4958-4104-de64-a49f44b522f8"
      },
      "execution_count": null,
      "outputs": [
        {
          "output_type": "stream",
          "name": "stdout",
          "text": [
            "Welcome to Hangman! 🎨\n",
            "_ _ _ _ _ _\n",
            "\n",
            "Guess a Letter: p\n",
            "✅ Correct!\n",
            "p _ _ _ _ _\n",
            "\n",
            "Guess a Letter: y\n",
            "✅ Correct!\n",
            "p y _ _ _ _\n",
            "\n",
            "Guess a Letter: t\n",
            "✅ Correct!\n",
            "p y t _ _ _\n",
            "\n",
            "Guess a Letter: h\n",
            "✅ Correct!\n",
            "p y t h _ _\n",
            "\n",
            "Guess a Letter: o\n",
            "✅ Correct!\n",
            "p y t h o _\n",
            "\n",
            "Guess a Letter: n\n",
            "✅ Correct!\n",
            "p y t h o n\n",
            "\n",
            "🎉 You won! The word was: python\n"
          ]
        }
      ]
    }
  ]
}