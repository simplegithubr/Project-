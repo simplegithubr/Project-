{
  "nbformat": 4,
  "nbformat_minor": 0,
  "metadata": {
    "colab": {
      "provenance": [],
      "authorship_tag": "ABX9TyMtLteiQXcWaEqjllKzLPYB",
      "include_colab_link": true
    },
    "kernelspec": {
      "name": "python3",
      "display_name": "Python 3"
    },
    "language_info": {
      "name": "python"
    }
  },
  "cells": [
    {
      "cell_type": "markdown",
      "metadata": {
        "id": "view-in-github",
        "colab_type": "text"
      },
      "source": [
        "<a href=\"https://colab.research.google.com/github/simplegithubr/Project-/blob/main/Password_Generator_Python_Project.ipynb\" target=\"_parent\"><img src=\"https://colab.research.google.com/assets/colab-badge.svg\" alt=\"Open In Colab\"/></a>"
      ]
    },
    {
      "cell_type": "markdown",
      "source": [
        "Password Generator Python Project"
      ],
      "metadata": {
        "id": "OOg3AdgYp2J3"
      }
    },
    {
      "cell_type": "code",
      "execution_count": null,
      "metadata": {
        "colab": {
          "base_uri": "https://localhost:8080/"
        },
        "id": "O3jDyBQrksrD",
        "outputId": "35f51775-abd2-449a-e536-ffd247e5129d"
      },
      "outputs": [
        {
          "output_type": "stream",
          "name": "stdout",
          "text": [
            "How many passwords do you need?4\n",
            "What should be the length of each password?8\n",
            "\n",
            "Genrate Passwored\n",
            "~~w2<%7B\n",
            "7[O]Goy(\n",
            "t\\tg(z7,\n"
          ]
        }
      ],
      "source": [
        "import random\n",
        "import string\n",
        "\n",
        "num_passwords : int(input(\"How many passwords do you need?\"))\n",
        "password_length : int(input(\"What should be the length of each password?\"))\n",
        "\n",
        "characters = string.ascii_letters + string.digits + string.punctuation\n",
        "\n",
        "print(\"\\nGenrate Passwored\")\n",
        "for _ in  range(num_passwords):\n",
        "     password = ''.join(random.choices(characters, k=password_length))\n",
        "     print(password)\n"
      ]
    }
  ]
}