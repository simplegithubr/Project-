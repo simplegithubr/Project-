{
  "nbformat": 4,
  "nbformat_minor": 0,
  "metadata": {
    "colab": {
      "provenance": [],
      "authorship_tag": "ABX9TyP31lNdPYzRNJir6V+jkRQE",
      "include_colab_link": true
    },
    "kernelspec": {
      "name": "python3",
      "display_name": "Python 3"
    },
    "language_info": {
      "name": "python"
    }
  },
  "cells": [
    {
      "cell_type": "markdown",
      "metadata": {
        "id": "view-in-github",
        "colab_type": "text"
      },
      "source": [
        "<a href=\"https://colab.research.google.com/github/simplegithubr/Project-/blob/main/BMI_Calculator.ipynb\" target=\"_parent\"><img src=\"https://colab.research.google.com/assets/colab-badge.svg\" alt=\"Open In Colab\"/></a>"
      ]
    },
    {
      "cell_type": "markdown",
      "source": [
        "### ***Build a BMI Calculator with Python & Streamlit in Under 6 Minutes!***"
      ],
      "metadata": {
        "id": "D-quIaPU1kZ0"
      }
    },
    {
      "cell_type": "code",
      "source": [
        "import streamlit as st\n",
        "\n",
        "import pandas as pd\n",
        "st.set_page_config(page_title=\"Kinzaa's BMI Calculator\", layout=\"centered\")\n",
        "\n",
        "st.title(\"💖Welcome to By Creative Kinza Bami Calculator 🎨\")\n",
        "\n",
        "heght= st.slider(\"📏Enter Your Heght(in cm):\" , 100, 125, 250)\n",
        "weight = st.slider(\"⚖️Enter Your weight(in kg):\" , 40, 200, 70)\n",
        "bmi = weight / ((heght/100) **2)\n",
        "st.write(f\"💡Your BMI is {bmi:.2f}\")\n",
        "st.write(\"### 🏆BMI Categories 🏆 ### \")\n",
        "st.write(\"🟢 Underweight: BMI less then 18.5\")\n",
        "st.write(\"🟡 Normal weighit: BMI between 18.5 and 24.9\")\n",
        "st.write(\"🟠 Overwighit: BMI between 25 and 29.9\")\n",
        "st.write(\"🔴 Obesity: BMI 30 or greater\")\n",
        "\n",
        "if bmi < 18.5:\n",
        "    st.write(\"⚠️ *You're underweight! Eat healthy and stay strong!* 💪\")\n",
        "elif 18.5 <= bmi <= 24.9:\n",
        "    st.write(\"✅ *Great! You have a normal weight. Keep it up!* 🎉\")\n",
        "elif 25 <= bmi <= 29.9:\n",
        "    st.write(\"⚠️ *You're overweight! Try to maintain a balanced diet and exercise.* 🏃\")\n",
        "else:\n",
        "    st.write(\"🚨 *You're in the obesity range! Consider a healthy lifestyle change.* 🍏\")"
      ],
      "metadata": {
        "id": "PscQn1aR1vAZ"
      },
      "execution_count": null,
      "outputs": []
    },
    {
      "cell_type": "markdown",
      "source": [
        "# https://bmicalculator-786.streamlit.app/"
      ],
      "metadata": {
        "id": "tvlMT6MI_nwo"
      }
    }
  ]
}