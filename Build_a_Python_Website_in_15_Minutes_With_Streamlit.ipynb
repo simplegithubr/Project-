{
  "nbformat": 4,
  "nbformat_minor": 0,
  "metadata": {
    "colab": {
      "provenance": [],
      "authorship_tag": "ABX9TyNPCNcDxatFRhFpI53t4AoW",
      "include_colab_link": true
    },
    "kernelspec": {
      "name": "python3",
      "display_name": "Python 3"
    },
    "language_info": {
      "name": "python"
    }
  },
  "cells": [
    {
      "cell_type": "markdown",
      "metadata": {
        "id": "view-in-github",
        "colab_type": "text"
      },
      "source": [
        "<a href=\"https://colab.research.google.com/github/simplegithubr/Project-/blob/main/Build_a_Python_Website_in_15_Minutes_With_Streamlit.ipynb\" target=\"_parent\"><img src=\"https://colab.research.google.com/assets/colab-badge.svg\" alt=\"Open In Colab\"/></a>"
      ]
    },
    {
      "cell_type": "markdown",
      "source": [
        " Build a Python Website in 15 Minutes With Streamlit  "
      ],
      "metadata": {
        "id": "petKFTkhInze"
      }
    },
    {
      "cell_type": "code",
      "execution_count": null,
      "metadata": {
        "id": "xl82r25MIk8n"
      },
      "outputs": [],
      "source": [
        "import streamlit as st\n",
        "import json\n",
        "import os\n",
        "import datetime\n",
        "import matplotlib.pyplot as plt\n",
        "\n",
        "#File to short data\n",
        "Data_File = \"coding_data.json\"\n",
        "\n",
        "#Load existing data\n",
        "def load_data():\n",
        "    if os.path.exists(Data_File):\n",
        "        with open(Data_File, \"r\") as file:\n",
        "            return json.load(file)\n",
        "    return{}\n",
        "    #save data\n",
        "\n",
        "def save_data(data):\n",
        "        with open(Data_File, \"w\") as file:\n",
        "            json.dump(data , file, indent=4)\n",
        "\n",
        "#initialize data\n",
        "data =load_data()\n",
        "\n",
        "#streamlit ui\n",
        "st.title(\"🚀 Daily Coding Growth Tracker\")\n",
        "st.write(\"Track your daily coding hours and see your progress!\")\n",
        "#input section\n",
        "date = st.date_input(\"📅 Select Date\", datetime.date.today())\n",
        "hours = st.number_input(\"⏳ Hours Coded\", min_value=0.0, max_value=24.0 , step=0.5 )\n",
        "\n",
        "if st.button(\"Save Entry\"):\n",
        "    date_str = str(date)\n",
        "    data[date_str] = hours\n",
        "    save_data(data)\n",
        "    st.success(f\"✅ Saved {hours} hours for {date_str}\")\n",
        "\n",
        "#Display progress\n",
        "if data:\n",
        "    dates = list(data.keys())\n",
        "    hours_coded = list(data.values())\n",
        "\n",
        "#plot\n",
        "    fig , ax = plt.subplots()\n",
        "    ax.plot(dates, hours_coded, marker='o', linestyle='-', color=\"blue\" )\n",
        "    ax.set_xlabel(\"Date\")\n",
        "    ax.set_ylabel(\"Hours Coded\")\n",
        "    ax.set_title(\"📈 Coding Progress Over Time\")\n",
        "    plt.xticks(rotation=45)\n",
        "    st.pyplot(fig)\n"
      ]
    },
    {
      "cell_type": "markdown",
      "source": [
        "https://growthcodingtacker-7fqnhfpfykupsdxbj2jgqs.streamlit.app/"
      ],
      "metadata": {
        "id": "H6sNwlBVI365"
      }
    }
  ]
}