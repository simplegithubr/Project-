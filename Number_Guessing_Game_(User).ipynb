{
  "nbformat": 4,
  "nbformat_minor": 0,
  "metadata": {
    "colab": {
      "provenance": [],
      "authorship_tag": "ABX9TyN0AYl+wPx9ITMyGdx4Abtf",
      "include_colab_link": true
    },
    "kernelspec": {
      "name": "python3",
      "display_name": "Python 3"
    },
    "language_info": {
      "name": "python"
    }
  },
  "cells": [
    {
      "cell_type": "markdown",
      "metadata": {
        "id": "view-in-github",
        "colab_type": "text"
      },
      "source": [
        "<a href=\"https://colab.research.google.com/github/simplegithubr/Project-/blob/main/Number_Guessing_Game_(User).ipynb\" target=\"_parent\"><img src=\"https://colab.research.google.com/assets/colab-badge.svg\" alt=\"Open In Colab\"/></a>"
      ]
    },
    {
      "cell_type": "markdown",
      "source": [
        "Number Guessing Game (User)"
      ],
      "metadata": {
        "id": "HoMetu-NmGgG"
      }
    },
    {
      "cell_type": "code",
      "source": [
        "import random\n",
        "\n",
        "def guess_number():\n",
        "    low = 1\n",
        "    high = 50\n",
        "    feedback = \"\"\n",
        "\n",
        "    print(\"welcome to Number Guessing 🎮Game (User) \")\n",
        "    print(\"Think of a number between 1 and 50, and I'll try to guess it!\")\n",
        "\n",
        "    while feedback != \"c\":\n",
        "\n",
        "        guess = random.randint(low, high)\n",
        "        feedback = input(f\"Is {guess} too high (h) , too low (l), or correct (c)? \").lower()\n",
        "\n",
        "        if feedback == \"h\":\n",
        "          high = guess -1\n",
        "        elif feedback == \"l\":\n",
        "          low = guess + 1\n",
        "\n",
        "    print(f\"Yay!🎉 I guessed your number {guess} correctly!\")\n",
        "\n",
        "guess_number()\n",
        "\n",
        "\n",
        "\n"
      ],
      "metadata": {
        "colab": {
          "base_uri": "https://localhost:8080/"
        },
        "id": "MAw-y6semI8L",
        "outputId": "12fae8d7-a0c9-469d-9bc0-51fbddba224a"
      },
      "execution_count": null,
      "outputs": [
        {
          "output_type": "stream",
          "name": "stdout",
          "text": [
            "welcome to Number Guessing 🎮Game (User) \n",
            "Think of a number between 1 and 50, and I'll try to guess it!\n",
            "Is 13 too high (h) , too low (l), or correct (c)? l\n",
            "Is 20 too high (h) , too low (l), or correct (c)? h\n",
            "Is 19 too high (h) , too low (l), or correct (c)? h\n",
            "Is 14 too high (h) , too low (l), or correct (c)? c\n",
            "Yay!🎉 I guessed your number 14 correctly!\n"
          ]
        }
      ]
    }
  ]
}