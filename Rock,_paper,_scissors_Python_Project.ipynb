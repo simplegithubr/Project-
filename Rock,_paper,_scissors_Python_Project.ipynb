{
  "cells": [
    {
      "cell_type": "markdown",
      "metadata": {
        "id": "view-in-github",
        "colab_type": "text"
      },
      "source": [
        "<a href=\"https://colab.research.google.com/github/simplegithubr/Project-/blob/main/Rock%2C_paper%2C_scissors_Python_Project.ipynb\" target=\"_parent\"><img src=\"https://colab.research.google.com/assets/colab-badge.svg\" alt=\"Open In Colab\"/></a>"
      ]
    },
    {
      "cell_type": "markdown",
      "source": [
        "Rock, paper, scissors Python Project"
      ],
      "metadata": {
        "id": "ywqBs92Z7FPd"
      }
    },
    {
      "cell_type": "code",
      "source": [
        "import random\n",
        "choices = [\"rock\", \"paper\", \"scissors\"]\n",
        "user_score = 0\n",
        "computer_score = 0\n",
        "winning_score = 5\n",
        "\n",
        "while True:\n",
        "    user_choice = input(f\"Enter rock, paper, or scissors , (or 'quit'to stop ) \").lower()\n",
        "    if user_choice == \"quit\":\n",
        "        print(f\"Final Score -> You: {user_score}, computer: {computer_score}\")\n",
        "        print(\"Thanks for Playing!\")\n",
        "        break\n",
        "    if user_choice not in choices:\n",
        "        print(\"Invaild choise try again!\")\n",
        "        continue\n",
        "    computer_choice = random.choice(choices)\n",
        "    print(f\"Computer_choice: {computer_choice}\")\n",
        "    if user_choice == computer_choice:\n",
        "         print(\"It's a tie!\")\n",
        "\n",
        "    elif (user_choice == \"rock\" and computer_choice == \"scissors\")or \\\n",
        "          (user_choice == \"scissors\" and computer_choice == \"paper\") or \\\n",
        "         (user_choice == \"paper\" and computer_choice == \"rock\"):\n",
        "         print(\"You win\")\n",
        "         user_score += 1\n",
        "    else:\n",
        "        print(\"Computer Wins!\")\n",
        "        computer_score += 1\n",
        "\n",
        "    print(f\"Score -> You: {user_score} computer: {computer_score}\\n\")\n",
        "\n",
        "\n",
        "    if user_score == winning_score:\n",
        "      print(\"🎉 YOU ARE THE CHAMPION! 🏆\")\n",
        "      break\n",
        "    elif computer_score == winning_score:\n",
        "      print(\"😢 Computer won the game! Try again next time!\")\n",
        "      break\n",
        "\n",
        "\n"
      ],
      "metadata": {
        "colab": {
          "base_uri": "https://localhost:8080/"
        },
        "id": "W-_ROVORobWI",
        "outputId": "e80b9344-7847-4a81-a061-af90b2e8a027"
      },
      "execution_count": null,
      "outputs": [
        {
          "output_type": "stream",
          "name": "stdout",
          "text": [
            "Enter rock, paper, or scissors , (or 'quit'to stop ) rock\n",
            "Computer_choice: scissors\n",
            "You win\n",
            "Score -> You: 1 computer: 0\n",
            "\n",
            "Enter rock, paper, or scissors , (or 'quit'to stop ) rock\n",
            "Computer_choice: scissors\n",
            "You win\n",
            "Score -> You: 2 computer: 0\n",
            "\n",
            "Enter rock, paper, or scissors , (or 'quit'to stop ) paper\n",
            "Computer_choice: scissors\n",
            "Computer Wins!\n",
            "Score -> You: 2 computer: 1\n",
            "\n",
            "Enter rock, paper, or scissors , (or 'quit'to stop )  scissors\n",
            "Invaild choise try again!\n",
            "Enter rock, paper, or scissors , (or 'quit'to stop ) scissors\n",
            "Computer_choice: scissors\n",
            "It's a tie!\n",
            "Score -> You: 2 computer: 1\n",
            "\n",
            "Enter rock, paper, or scissors , (or 'quit'to stop ) paper\n",
            "Computer_choice: paper\n",
            "It's a tie!\n",
            "Score -> You: 2 computer: 1\n",
            "\n",
            "Enter rock, paper, or scissors , (or 'quit'to stop ) rock\n",
            "Computer_choice: scissors\n",
            "You win\n",
            "Score -> You: 3 computer: 1\n",
            "\n",
            "Enter rock, paper, or scissors , (or 'quit'to stop ) rock\n",
            "Computer_choice: rock\n",
            "It's a tie!\n",
            "Score -> You: 3 computer: 1\n",
            "\n",
            "Enter rock, paper, or scissors , (or 'quit'to stop ) paper\n",
            "Computer_choice: paper\n",
            "It's a tie!\n",
            "Score -> You: 3 computer: 1\n",
            "\n",
            "Enter rock, paper, or scissors , (or 'quit'to stop ) rock\n",
            "Computer_choice: scissors\n",
            "You win\n",
            "Score -> You: 4 computer: 1\n",
            "\n",
            "Enter rock, paper, or scissors , (or 'quit'to stop ) paper\n",
            "Computer_choice: paper\n",
            "It's a tie!\n",
            "Score -> You: 4 computer: 1\n",
            "\n",
            "Enter rock, paper, or scissors , (or 'quit'to stop ) rock\n",
            "Computer_choice: paper\n",
            "Computer Wins!\n",
            "Score -> You: 4 computer: 2\n",
            "\n",
            "Enter rock, paper, or scissors , (or 'quit'to stop ) rock\n",
            "Computer_choice: paper\n",
            "Computer Wins!\n",
            "Score -> You: 4 computer: 3\n",
            "\n",
            "Enter rock, paper, or scissors , (or 'quit'to stop ) paper\n",
            "Computer_choice: paper\n",
            "It's a tie!\n",
            "Score -> You: 4 computer: 3\n",
            "\n",
            "Enter rock, paper, or scissors , (or 'quit'to stop ) rock\n",
            "Computer_choice: scissors\n",
            "You win\n",
            "Score -> You: 5 computer: 3\n",
            "\n",
            "🎉 YOU ARE THE CHAMPION! 🏆\n"
          ]
        }
      ]
    }
  ],
  "metadata": {
    "colab": {
      "provenance": [],
      "authorship_tag": "ABX9TyPwXhzXxTgeCczIhn6gQf3s",
      "include_colab_link": true
    },
    "kernelspec": {
      "display_name": "Python 3",
      "name": "python3"
    },
    "language_info": {
      "name": "python"
    }
  },
  "nbformat": 4,
  "nbformat_minor": 0
}