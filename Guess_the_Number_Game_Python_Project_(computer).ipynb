{
  "nbformat": 4,
  "nbformat_minor": 0,
  "metadata": {
    "colab": {
      "provenance": [],
      "authorship_tag": "ABX9TyPJgS5rIQMHwtgEGZRYByNN",
      "include_colab_link": true
    },
    "kernelspec": {
      "name": "python3",
      "display_name": "Python 3"
    },
    "language_info": {
      "name": "python"
    }
  },
  "cells": [
    {
      "cell_type": "markdown",
      "metadata": {
        "id": "view-in-github",
        "colab_type": "text"
      },
      "source": [
        "<a href=\"https://colab.research.google.com/github/simplegithubr/Project-/blob/main/Guess_the_Number_Game_Python_Project_(computer).ipynb\" target=\"_parent\"><img src=\"https://colab.research.google.com/assets/colab-badge.svg\" alt=\"Open In Colab\"/></a>"
      ]
    },
    {
      "cell_type": "markdown",
      "source": [
        "Guess the Number Game Python Project (computer)"
      ],
      "metadata": {
        "id": "sYLXWtEsEVE8"
      }
    },
    {
      "cell_type": "code",
      "execution_count": 2,
      "metadata": {
        "colab": {
          "base_uri": "https://localhost:8080/"
        },
        "id": "QixwwMGMDXcK",
        "outputId": "58d9d031-72c3-4b1a-c0bb-6ebf54e2d013"
      },
      "outputs": [
        {
          "output_type": "stream",
          "name": "stdout",
          "text": [
            "🎯 Welcome to 'Guess the Number' Game!\n",
            "I have selected a number between 1 and 50. Can you guess it?\n",
            "Enter your guess: 8\n",
            "Too low! Try again. 🔼\n",
            "Enter your guess: 15\n",
            "Too low! Try again. 🔼\n",
            "Enter your guess: 66\n",
            "Too high! Try again. 🔽\n",
            "Enter your guess: 33\n",
            "Too low! Try again. 🔼\n",
            "Enter your guess: 44\n",
            "Too high! Try again. 🔽\n",
            "Enter your guess: 40\n",
            "Too high! Try again. 🔽\n",
            "Enter your guess: 35\n",
            "Too high! Try again. 🔽\n",
            "Enter your guess: 34\n",
            "🎉 Congratulations! You guessed the number in 8 attempts. 🎯\n"
          ]
        }
      ],
      "source": [
        "import random\n",
        "\n",
        "def guess_the_number():\n",
        "    secret_number = random.randint(1, 50)\n",
        "    attempts = 0\n",
        "\n",
        "    print(\"🎯 Welcome to 'Guess the Number' Game!\")\n",
        "    print(\"I have selected a number between 1 and 50. Can you guess it?\")\n",
        "\n",
        "    while True:\n",
        "        try:\n",
        "            guess = int(input(\"Enter your guess: \"))\n",
        "            attempts += 1\n",
        "\n",
        "            if guess < secret_number:\n",
        "                print(\"Too low! Try again. 🔼\")\n",
        "            elif guess > secret_number:\n",
        "                print(\"Too high! Try again. 🔽\")\n",
        "            else:\n",
        "                print(f\"🎉 Congratulations! You guessed the number in {attempts} attempts. 🎯\")\n",
        "                break\n",
        "        except ValueError:\n",
        "            print(\"❌ Invalid input! Please enter a number between 1 and 100.\")\n",
        "\n",
        "# Game start\n",
        "guess_the_number()\n"
      ]
    }
  ]
}