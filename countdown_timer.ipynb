{
  "nbformat": 4,
  "nbformat_minor": 0,
  "metadata": {
    "colab": {
      "provenance": [],
      "authorship_tag": "ABX9TyOhw6Zf9e23pVVh9SGC1nP5",
      "include_colab_link": true
    },
    "kernelspec": {
      "name": "python3",
      "display_name": "Python 3"
    },
    "language_info": {
      "name": "python"
    }
  },
  "cells": [
    {
      "cell_type": "markdown",
      "metadata": {
        "id": "view-in-github",
        "colab_type": "text"
      },
      "source": [
        "<a href=\"https://colab.research.google.com/github/simplegithubr/Project-/blob/main/countdown_timer.ipynb\" target=\"_parent\"><img src=\"https://colab.research.google.com/assets/colab-badge.svg\" alt=\"Open In Colab\"/></a>"
      ]
    },
    {
      "cell_type": "markdown",
      "source": [
        "Countdown Timer Python Project"
      ],
      "metadata": {
        "id": "iWhX9ma8b856"
      }
    },
    {
      "cell_type": "code",
      "source": [
        "import time\n",
        "\n",
        "def countdown_timer(seconds):\n",
        "    for remaining in range(seconds, 0, -1):\n",
        "        mins, secs = divmod(remaining, 60)\n",
        "        print(f\"{mins:02d}:{secs:02d}\")\n",
        "        time.sleep(1)\n",
        "    print(\"00:00\")\n",
        "    print(\"Time's up! ⏰\")\n",
        "try:\n",
        "   total_seconds = int(input(\"Enter time in seconds: \"))\n",
        "   countdown_timer(total_seconds)\n",
        "except ValueError:\n",
        "   print(\"Invalid input! Please enter a valid number.\")\n",
        "\n",
        "\n",
        "\n"
      ],
      "metadata": {
        "colab": {
          "base_uri": "https://localhost:8080/"
        },
        "id": "-dd7RvzZcAWe",
        "outputId": "98921894-c73b-4ae1-a75f-326b7b000a59"
      },
      "execution_count": null,
      "outputs": [
        {
          "output_type": "stream",
          "name": "stdout",
          "text": [
            "Enter time in seconds: 4\n",
            "00:04\n",
            "00:03\n",
            "00:02\n",
            "00:01\n",
            "00:00\n",
            "Time's up! ⏰\n"
          ]
        }
      ]
    }
  ]
}